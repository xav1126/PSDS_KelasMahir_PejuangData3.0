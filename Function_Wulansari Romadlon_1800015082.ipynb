{
 "cells": [
  {
   "cell_type": "markdown",
   "id": "a34b1c9f",
   "metadata": {},
   "source": [
    "# Function\n",
    "Function adalah sebuah blok statemen yang hanya akan dijalankan saat ia dipanggil!"
   ]
  },
  {
   "cell_type": "code",
   "execution_count": 5,
   "id": "4130f6dd",
   "metadata": {},
   "outputs": [
    {
     "data": {
      "text/plain": [
       "4"
      ]
     },
     "execution_count": 5,
     "metadata": {},
     "output_type": "execute_result"
    }
   ],
   "source": [
    "genap = [2,4,8,10]\n",
    "len(genap)"
   ]
  },
  {
   "cell_type": "code",
   "execution_count": 6,
   "id": "addfd054",
   "metadata": {},
   "outputs": [
    {
     "name": "stdout",
     "output_type": "stream",
     "text": [
      "Assalamualaikum Dunia\n"
     ]
    }
   ],
   "source": [
    "print('Assalamualaikum Dunia')"
   ]
  },
  {
   "cell_type": "markdown",
   "id": "063f2f83",
   "metadata": {},
   "source": [
    "# Keyword & Argument\n",
    "**Keyword/Parameter** : variabel yang digunakan dalam deklarasi fungsi\n",
    "**Argument** : nilai yang diberikan saat pemanggilan fungsi"
   ]
  },
  {
   "cell_type": "code",
   "execution_count": 7,
   "id": "ff639dfd",
   "metadata": {},
   "outputs": [
    {
     "name": "stdout",
     "output_type": "stream",
     "text": [
      "kata1/kata2\n"
     ]
    }
   ],
   "source": [
    "# sep = keyword/argument\n",
    "# '-' = argument\n",
    "\n",
    "print('kata1', 'kata2', sep='/')"
   ]
  },
  {
   "cell_type": "markdown",
   "id": "543fc2fa",
   "metadata": {},
   "source": [
    "# Membuat Fungsi\n",
    "Python mengizinkan untuk mendeklarasikan fungsi dalam kode yang dituliskan yang dikenal dengan **user defined function**.\n"
   ]
  },
  {
   "cell_type": "code",
   "execution_count": 8,
   "id": "5d5243e3",
   "metadata": {},
   "outputs": [],
   "source": [
    "def nama_fungsi(argument):\n",
    "    pernyataan_1\n",
    "    ...\n",
    "    pernyataan_n\n",
    "    return nilai_keluaran"
   ]
  },
  {
   "cell_type": "code",
   "execution_count": 9,
   "id": "e874a9f1",
   "metadata": {},
   "outputs": [],
   "source": [
    "# Pendefinisian fungsi_kuadrat\n",
    "def fungsi_kuadrat(x):\n",
    "    hasil = x**2\n",
    "    return hasil"
   ]
  },
  {
   "cell_type": "code",
   "execution_count": 10,
   "id": "5b9691f1",
   "metadata": {},
   "outputs": [],
   "source": [
    "# Alternatif pendefinisian fungsi_kuadrat\n",
    "def fungsi_kuadrat(x):\n",
    "    return x**2"
   ]
  },
  {
   "cell_type": "code",
   "execution_count": 11,
   "id": "a748e021",
   "metadata": {},
   "outputs": [
    {
     "data": {
      "text/plain": [
       "36"
      ]
     },
     "execution_count": 11,
     "metadata": {},
     "output_type": "execute_result"
    }
   ],
   "source": [
    "# Pemanggilan fungsi_kuadrat\n",
    "fungsi_kuadrat(6)"
   ]
  },
  {
   "cell_type": "markdown",
   "id": "44217ecc",
   "metadata": {},
   "source": [
    "# Positional Argument & Keyword\n",
    "Kita bisa menyatakan argumen sebagai positional argument atau keyword. Beberapa manfaat argumen kata kunci dapat berupa:\n",
    "* Kita dapat menyebut argumen dengan nama mereka untuk memperjelas apa yang mereka wakili\n",
    "* Kita dapat mengatur ulang argumen dengan cara yang membuatnya paling mudah dibaca"
   ]
  },
  {
   "cell_type": "code",
   "execution_count": 12,
   "id": "1d355f94",
   "metadata": {},
   "outputs": [],
   "source": [
    "# Mendefinisikan fungsi dengan beberapa argumen\n",
    "def tampilkan_kata(a, b, c):\n",
    "    print(a, b, c)"
   ]
  },
  {
   "cell_type": "code",
   "execution_count": 13,
   "id": "5f95ee70",
   "metadata": {},
   "outputs": [
    {
     "name": "stdout",
     "output_type": "stream",
     "text": [
      "aku kau dia\n"
     ]
    }
   ],
   "source": [
    "# Positional Arguments\n",
    "tampilkan_kata('aku', 'kau', 'dia')"
   ]
  },
  {
   "cell_type": "code",
   "execution_count": 14,
   "id": "fcc5cbe9",
   "metadata": {},
   "outputs": [
    {
     "name": "stdout",
     "output_type": "stream",
     "text": [
      "aku kau dia\n",
      "aku kau dia\n"
     ]
    }
   ],
   "source": [
    "# argumen berdasarkan keyword-nya\n",
    "tampilkan_kata(a='aku', b='kau', c='dia')\n",
    "tampilkan_kata(c='dia', b='kau', a='aku') "
   ]
  },
  {
   "cell_type": "markdown",
   "id": "bbd45651",
   "metadata": {},
   "source": [
    "Catatan : jika sudah diberi kunci maka urutan tidak menjadi penting"
   ]
  },
  {
   "cell_type": "code",
   "execution_count": 15,
   "id": "a0293d52",
   "metadata": {},
   "outputs": [
    {
     "name": "stdout",
     "output_type": "stream",
     "text": [
      "aku kau dia\n"
     ]
    }
   ],
   "source": [
    "# campuran antara argumen posisi dan argumen kata kunci\n",
    "tampilkan_kata('aku', b='kau', c='dia')"
   ]
  },
  {
   "cell_type": "markdown",
   "id": "3cb57f37",
   "metadata": {},
   "source": [
    "**Ini tidak diijinkan:**\n",
    "* Positional argument setelah keyword argument\n",
    "\n",
    "\n"
   ]
  },
  {
   "cell_type": "raw",
   "id": "b4efbfe5",
   "metadata": {},
   "source": [
    "tampilkan_kata(a='aku', b='kau', c='dia')"
   ]
  },
  {
   "cell_type": "markdown",
   "id": "855c5fed",
   "metadata": {},
   "source": [
    "* Terdapat dua nilai untuk satu keyword argument yang sama"
   ]
  },
  {
   "cell_type": "raw",
   "id": "2cbfd6bb",
   "metadata": {},
   "source": [
    "tampilkan_kata(1, b=2, a=3)"
   ]
  },
  {
   "cell_type": "markdown",
   "id": "af4b1d61",
   "metadata": {},
   "source": [
    "# Argument Default\n",
    "Fungsi dapat memiliki argumen default dengan nilai yang telah ditentukan sebelumnya. Argumen ini dapat ditinggalkan dan nilai default kemudian diteruskan ke fungsi, atau argumen dapat dirubah dengan nilai yang berbeda. Perhatikan bahwa argumen default harus ditentukan sebagai **parameter terakhir** dalam suatu fungsi."
   ]
  },
  {
   "cell_type": "code",
   "execution_count": 18,
   "id": "d280ed41",
   "metadata": {},
   "outputs": [
    {
     "name": "stdout",
     "output_type": "stream",
     "text": [
      "aku kau dia sahabat\n",
      "aku kau dia teman\n"
     ]
    }
   ],
   "source": [
    "# Argumen default\n",
    "def tampilkan_kata(a, b, c, d='sahabat'):\n",
    "    print(a, b, c, d)\n",
    "\n",
    "tampilkan_kata('aku', 'kau', 'dia')\n",
    "tampilkan_kata('aku', b='kau', c='dia', d='teman')"
   ]
  },
  {
   "cell_type": "markdown",
   "id": "904098c0",
   "metadata": {},
   "source": [
    "Catatan : Argumen default harus diletakkan terakhir"
   ]
  },
  {
   "cell_type": "markdown",
   "id": "ee9ae79a",
   "metadata": {},
   "source": [
    "# Contoh User Defined Function"
   ]
  },
  {
   "cell_type": "markdown",
   "id": "1f91f774",
   "metadata": {},
   "source": [
    "**Contoh 1:**"
   ]
  },
  {
   "cell_type": "markdown",
   "id": "48598173",
   "metadata": {},
   "source": [
    "Penjumlahan 2 bilangan"
   ]
  },
  {
   "cell_type": "code",
   "execution_count": 19,
   "id": "d04886d2",
   "metadata": {},
   "outputs": [
    {
     "data": {
      "text/plain": [
       "3"
      ]
     },
     "execution_count": 19,
     "metadata": {},
     "output_type": "execute_result"
    }
   ],
   "source": [
    "def penjumlahan(x, y): # input\n",
    "    a=x+y # proses\n",
    "    return a # output\n",
    "\n",
    "penjumlahan(1, 2) # pemanggilan fungsi"
   ]
  },
  {
   "cell_type": "markdown",
   "id": "f7860b61",
   "metadata": {},
   "source": [
    "**Contoh 2:**"
   ]
  },
  {
   "cell_type": "markdown",
   "id": "77148bec",
   "metadata": {},
   "source": [
    "Penjumlahan yang memungkinkan untuk tiga bilangan"
   ]
  },
  {
   "cell_type": "code",
   "execution_count": 20,
   "id": "936c85ca",
   "metadata": {},
   "outputs": [
    {
     "name": "stdout",
     "output_type": "stream",
     "text": [
      "3\n",
      "6\n"
     ]
    }
   ],
   "source": [
    "def penjumlahan(x,y,z=None):\n",
    "    if (z==None):\n",
    "        return x+y\n",
    "    else:\n",
    "        return x+y+z\n",
    "\n",
    "print(penjumlahan(1, 2))\n",
    "print(penjumlahan(1, 2, 3))"
   ]
  },
  {
   "cell_type": "markdown",
   "id": "1e76cce3",
   "metadata": {},
   "source": [
    "**Contoh 3:**"
   ]
  },
  {
   "cell_type": "markdown",
   "id": "20ac1ecd",
   "metadata": {},
   "source": [
    "Menghitung luas dan keliling persegi"
   ]
  },
  {
   "cell_type": "code",
   "execution_count": 21,
   "id": "611607ae",
   "metadata": {},
   "outputs": [
    {
     "name": "stdout",
     "output_type": "stream",
     "text": [
      "luas: 4\n",
      "keliling: 8\n"
     ]
    }
   ],
   "source": [
    "def luas_dan_keliling_presegi(s):\n",
    "    luas = s**2\n",
    "    keliling = 4*s\n",
    "    return luas, keliling\n",
    "\n",
    "luas, keliling = luas_dan_keliling_presegi(2)\n",
    "print('luas:', luas)\n",
    "print('keliling:', keliling)"
   ]
  },
  {
   "cell_type": "markdown",
   "id": "75f36d54",
   "metadata": {},
   "source": [
    "# Latihan "
   ]
  },
  {
   "cell_type": "markdown",
   "id": "d7735bff",
   "metadata": {},
   "source": [
    "1. Buatlah sebuah fungsi untuk menghitung luas dan keliling lingkaran dengan input jari2!"
   ]
  },
  {
   "cell_type": "code",
   "execution_count": 22,
   "id": "0a0545e3",
   "metadata": {},
   "outputs": [
    {
     "name": "stdout",
     "output_type": "stream",
     "text": [
      "luas: 31400.0\n",
      "keliling: 1256.0\n"
     ]
    }
   ],
   "source": [
    "def luas_dan_keliling_lingkaran(r):\n",
    "    pi = 3.14\n",
    "    luas = pi*r**2\n",
    "    keliling = pi*2*r\n",
    "    return luas\n",
    "    return keliling\n",
    "\n",
    "luas = luas_dan_keliling_lingkaran(100)\n",
    "keliling = luas_dan_keliling_lingkaran(20)\n",
    "\n",
    "print('luas:', luas)\n",
    "print('keliling:', keliling)"
   ]
  },
  {
   "cell_type": "markdown",
   "id": "6493b383",
   "metadata": {},
   "source": [
    "2. Buatlah sebuah fungsi untuk menggabungkan dua kata dalam bentuk string bebas menjadi satu kata tanpa spasi dengan huruf kecil\n",
    "\n",
    "Contoh:\n",
    "\n",
    "gabung_kata('TANGKUBAN', 'PeRaHu')\n",
    "\n",
    "Output:\n",
    "\n",
    "```python 'tangkubanperahu'"
   ]
  },
  {
   "cell_type": "code",
   "execution_count": 28,
   "id": "70c05b7e",
   "metadata": {},
   "outputs": [
    {
     "name": "stdout",
     "output_type": "stream",
     "text": [
      "tangkubanperahu\n"
     ]
    }
   ],
   "source": [
    "def gabung_kata(x, y):\n",
    "\n",
    "  print((x+y).lower());\n",
    "\n",
    "gabung_kata('TANGKUBAN', 'PeRaHu')"
   ]
  },
  {
   "cell_type": "markdown",
   "id": "2a2aeb21",
   "metadata": {},
   "source": [
    "3. Buatlah sebuah fungsi awal_akhir(list_input) untuk menukar elemen pertama pada sebuah list dengan elemen terakhir pada list yang sama!\n",
    "\n",
    "Contoh:\n",
    "\n",
    "awal_akhir([1,2,3,4])\n",
    "\n",
    "Output:\n",
    "\n",
    "```python [4,2,3,1]"
   ]
  },
  {
   "cell_type": "code",
   "execution_count": 29,
   "id": "17391986",
   "metadata": {},
   "outputs": [
    {
     "name": "stdout",
     "output_type": "stream",
     "text": [
      "[4, 2, 3, 1]\n"
     ]
    }
   ],
   "source": [
    "def awal_akhir(list_input):\n",
    "\n",
    "  awal, *tengah, akhir = list_input\n",
    "  list_input = [akhir, *tengah, awal];\n",
    "\n",
    "  print(list_input);\n",
    "\n",
    "awal_akhir([1,2,3,4])"
   ]
  }
 ],
 "metadata": {
  "kernelspec": {
   "display_name": "Python 3 (ipykernel)",
   "language": "python",
   "name": "python3"
  },
  "language_info": {
   "codemirror_mode": {
    "name": "ipython",
    "version": 3
   },
   "file_extension": ".py",
   "mimetype": "text/x-python",
   "name": "python",
   "nbconvert_exporter": "python",
   "pygments_lexer": "ipython3",
   "version": "3.9.7"
  }
 },
 "nbformat": 4,
 "nbformat_minor": 5
}
