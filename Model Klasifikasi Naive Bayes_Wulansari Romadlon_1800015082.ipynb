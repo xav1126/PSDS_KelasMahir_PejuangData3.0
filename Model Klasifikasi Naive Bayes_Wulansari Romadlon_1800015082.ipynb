{
 "cells": [
  {
   "cell_type": "markdown",
   "id": "21612acb",
   "metadata": {},
   "source": [
    "# Import Modul"
   ]
  },
  {
   "cell_type": "code",
   "execution_count": 22,
   "id": "fac0ad4b",
   "metadata": {},
   "outputs": [],
   "source": [
    "import pandas as pd\n",
    "import numpy as np\n",
    "import matplotlib.pyplot as plt\n",
    "import seaborn as sns\n",
    "sns.set_style(\"darkgrid\")"
   ]
  },
  {
   "cell_type": "markdown",
   "id": "25071f17",
   "metadata": {},
   "source": [
    "# Model Klasifikasi Naive Bayes"
   ]
  },
  {
   "cell_type": "markdown",
   "id": "203b2754",
   "metadata": {},
   "source": [
    "Model klasifikasi Naive Bayes merupakan model klasifikasi dengan dasar gagasan Teorema Bayes dengan asumsi semua variabel prediktornya(X) adalah saling independen. Model Naive Bayes mudah untuk dibangun. Model ini tidak memiliki estimasi parameter iteratif yang kompleks yang membuatnya cocok untuk data yanng sangat besar. Terlepas dari kesederhanaannya, model klasifikasi inisering kali bekerja dengan sangat baik dan banyak digunakan karena sering mengungguli metode klasifikasi yang lebih canggih. Contohnya pada klasifikasi sentimen pada dataset teks, klasifikasi email spam, dan klasifikasi dokumen."
   ]
  },
  {
   "cell_type": "markdown",
   "id": "748b44db",
   "metadata": {},
   "source": [
    "# Algoritma Naive Bayes"
   ]
  },
  {
   "cell_type": "markdown",
   "id": "ceafe754",
   "metadata": {},
   "source": [
    "Teorema Bayes menyajikan cara untuk menghitung probabilitas bersyarat(posterior)\n",
    "$P(Y=y|X=(x_1,x_2,...,x_n)), \\text{dari} P(Y=y), \\text{dan} P(X=(x_1,x_2,...,x_n)$. Model klasifikasi Naive Bayes mengasumsikan bahwa pengaruh suatu variabel prediktor pada kelas tertentu tidak bergantung pada nilai-nilai prediktor lainnya. Asumsi ini disebut sebagai **class conditional independence**."
   ]
  },
  {
   "attachments": {
    "Screenshot%202021-10-17%20151159.jpg": {
     "image/jpeg": "[encoded data removed]"
    }
   },
   "cell_type": "markdown",
   "id": "009fc27a",
   "metadata": {},
   "source": [
    "![Screenshot%202021-10-17%20151159.jpg](attachment:Screenshot%202021-10-17%20151159.jpg)"
   ]
  },
  {
   "cell_type": "markdown",
   "id": "a75d4aa0",
   "metadata": {},
   "source": [
    "$$P(c|X)=P(x_1|c)\\times P(x_2|c) \\times ... \\times P(x_n|c) \\times P(c)$$"
   ]
  },
  {
   "cell_type": "markdown",
   "id": "489d13a1",
   "metadata": {},
   "source": [
    "* $P(Y|X)$ adalah probabilitas bersyarat(posterior) dari kelas(target) dengan suatu prediktor yang diketahui(attribut).\n",
    "* $P(Y)$ adalah probabilitas prior dari kelas.\n",
    "* $P(X|Y)$ adalah likelihood yang merupakan probabilitas prediktor dengan kelas yang diketahui.\n",
    "* $P(X)$ adalah probabilitas prior dari prediktor(atribut)"
   ]
  },
  {
   "cell_type": "markdown",
   "id": "3197a6a9",
   "metadata": {},
   "source": [
    "# Penghitungan Manual Metode Klasifikasi Naive Bayes Data Categorical"
   ]
  },
  {
   "cell_type": "markdown",
   "id": "4680fa32",
   "metadata": {},
   "source": [
    "Misal kita memiliki dataset sebagai berikut:"
   ]
  },
  {
   "cell_type": "code",
   "execution_count": 23,
   "id": "8ae9a44c",
   "metadata": {},
   "outputs": [
    {
     "data": {
      "text/html": [
       "<div>\n",
       "<style scoped>\n",
       "    .dataframe tbody tr th:only-of-type {\n",
       "        vertical-align: middle;\n",
       "    }\n",
       "\n",
       "    .dataframe tbody tr th {\n",
       "        vertical-align: top;\n",
       "    }\n",
       "\n",
       "    .dataframe thead th {\n",
       "        text-align: right;\n",
       "    }\n",
       "</style>\n",
       "<table border=\"1\" class=\"dataframe\">\n",
       "  <thead>\n",
       "    <tr style=\"text-align: right;\">\n",
       "      <th></th>\n",
       "      <th>x_1</th>\n",
       "      <th>x_2</th>\n",
       "      <th>y</th>\n",
       "    </tr>\n",
       "  </thead>\n",
       "  <tbody>\n",
       "    <tr>\n",
       "      <th>0</th>\n",
       "      <td>0</td>\n",
       "      <td>0</td>\n",
       "      <td>0</td>\n",
       "    </tr>\n",
       "    <tr>\n",
       "      <th>1</th>\n",
       "      <td>0</td>\n",
       "      <td>1</td>\n",
       "      <td>1</td>\n",
       "    </tr>\n",
       "    <tr>\n",
       "      <th>2</th>\n",
       "      <td>1</td>\n",
       "      <td>2</td>\n",
       "      <td>1</td>\n",
       "    </tr>\n",
       "    <tr>\n",
       "      <th>3</th>\n",
       "      <td>0</td>\n",
       "      <td>0</td>\n",
       "      <td>1</td>\n",
       "    </tr>\n",
       "    <tr>\n",
       "      <th>4</th>\n",
       "      <td>2</td>\n",
       "      <td>2</td>\n",
       "      <td>0</td>\n",
       "    </tr>\n",
       "    <tr>\n",
       "      <th>5</th>\n",
       "      <td>1</td>\n",
       "      <td>1</td>\n",
       "      <td>0</td>\n",
       "    </tr>\n",
       "    <tr>\n",
       "      <th>6</th>\n",
       "      <td>0</td>\n",
       "      <td>2</td>\n",
       "      <td>1</td>\n",
       "    </tr>\n",
       "    <tr>\n",
       "      <th>7</th>\n",
       "      <td>2</td>\n",
       "      <td>0</td>\n",
       "      <td>0</td>\n",
       "    </tr>\n",
       "    <tr>\n",
       "      <th>8</th>\n",
       "      <td>2</td>\n",
       "      <td>1</td>\n",
       "      <td>0</td>\n",
       "    </tr>\n",
       "    <tr>\n",
       "      <th>9</th>\n",
       "      <td>1</td>\n",
       "      <td>0</td>\n",
       "      <td>0</td>\n",
       "    </tr>\n",
       "  </tbody>\n",
       "</table>\n",
       "</div>"
      ],
      "text/plain": [
       "   x_1  x_2  y\n",
       "0    0    0  0\n",
       "1    0    1  1\n",
       "2    1    2  1\n",
       "3    0    0  1\n",
       "4    2    2  0\n",
       "5    1    1  0\n",
       "6    0    2  1\n",
       "7    2    0  0\n",
       "8    2    1  0\n",
       "9    1    0  0"
      ]
     },
     "execution_count": 23,
     "metadata": {},
     "output_type": "execute_result"
    }
   ],
   "source": [
    "df = pd.DataFrame({'x_1':[0,0,1,0,2,1,0,2,2,1],\n",
    "                   'x_2':[0,1,2,0,2,1,2,0,1,0],\n",
    "                   'y':[0,1,1,1,0,0,1,0,0,0]})\n",
    "df"
   ]
  },
  {
   "cell_type": "markdown",
   "id": "78a8d972",
   "metadata": {},
   "source": [
    "Misal kita akan menghitung $𝑃(𝑌 = 0|𝑋 = (0, 2))\\ \\text{dan} 𝑃(𝑌 = 1|𝑋 = (0, 2))$\n",
    "\n",
    "Langkah-langkahnya adalah sebagai berikut:\n",
    "1. Menghitung probabilitas prior\n",
    "2. Menghitung probabilitas likelihood\n",
    "3. Mengalikan probabilitas likelihood dan probabilitas prior\n",
    "\n",
    "Berikut contohnya:\n",
    "\n",
    "1. Menghitung probabilitas prior:"
   ]
  },
  {
   "cell_type": "markdown",
   "id": "8b53c154",
   "metadata": {},
   "source": [
    "$$\n",
    "P(Y=0)=\\frac{Jumlah Y=0}{Jumlah Y=0+Jumlah Y=1}=\\frac{6}{10} \\\\\n",
    "P(Y=1)=\\frac{Jumlah Y=0}{Jumlah Y=0+Jumlah Y=1}=\\frac{4}{10} \\\\\n",
    "$$"
   ]
  },
  {
   "cell_type": "markdown",
   "id": "57b2b278",
   "metadata": {},
   "source": [
    "2. Menghitung probabilitas likelihood"
   ]
  },
  {
   "cell_type": "markdown",
   "id": "26e241d7",
   "metadata": {},
   "source": [
    "$$\n",
    "P(X=(0.2)|Y=0)=\\frac{Jumlah X=(0.2)}{Jumlah Y=0}=\\frac{0}{6} \\\\\n",
    "(X=(0.2)|Y=1)=\\frac{Jumlah X=(0.2)}{Jumlah Y=1}=\\frac{1}{4} \\\\\n",
    "$$"
   ]
  },
  {
   "cell_type": "markdown",
   "id": "b72ec179",
   "metadata": {},
   "source": [
    "Cara lain adalah dengan menggunakan teorema Bayes:"
   ]
  },
  {
   "cell_type": "markdown",
   "id": "497cac4e",
   "metadata": {},
   "source": [
    "$$\n",
    "P(X=(0.2)|Y=0)=P(X_1=0|Y=0)*P(X_2=2|Y=1)=\\frac{1}{6}*\\frac{1}{6}=\\frac{1}{36} \\\\\n",
    "P(X=(0.2)|Y=1)=P(X_1=0|Y=1)*P(X_2=2|Y=1)=\\frac{3}{4}*\\frac{2}{4}=\\frac{6}{16} \\\\\n",
    "$$"
   ]
  },
  {
   "cell_type": "markdown",
   "id": "696ec19d",
   "metadata": {},
   "source": [
    "3. Mengalikan probabilitas likelihood dan probabilitas prior"
   ]
  },
  {
   "cell_type": "markdown",
   "id": "27236f13",
   "metadata": {},
   "source": [
    "$\n",
    "P(Y=0|X=(0.2))==>\\frac{6}{10}*\\frac{6}{36}=\\frac{24}{160}=0.10 \\\\\n",
    "P(Y=1|X=(0.2))==>\\frac{4}{10}*\\frac{6}{16}=\\frac{24}{160}=0.15 \\\\\n",
    "$"
   ]
  },
  {
   "cell_type": "markdown",
   "id": "77cb7d7e",
   "metadata": {},
   "source": [
    "Dari hasil terakhir di atas diperoleh bahwa probabilitas muncul kelas y=1 dengan syarat x=(0,2) adalah yg lebih tinggi maka untuk input x=(0,2) hasil klasifikasinya adalah y=1"
   ]
  },
  {
   "cell_type": "markdown",
   "id": "d36c0b76",
   "metadata": {},
   "source": [
    "# Implementasi Pada Python"
   ]
  },
  {
   "cell_type": "markdown",
   "id": "46551a82",
   "metadata": {},
   "source": [
    "**Import Library**"
   ]
  },
  {
   "cell_type": "code",
   "execution_count": 24,
   "id": "031cd851",
   "metadata": {},
   "outputs": [],
   "source": [
    "import pandas as pd\n",
    "import numpy as np"
   ]
  },
  {
   "cell_type": "markdown",
   "id": "2bce419a",
   "metadata": {},
   "source": [
    "**DataFrame Input**"
   ]
  },
  {
   "cell_type": "code",
   "execution_count": 25,
   "id": "42ed19bb",
   "metadata": {},
   "outputs": [
    {
     "data": {
      "text/html": [
       "<div>\n",
       "<style scoped>\n",
       "    .dataframe tbody tr th:only-of-type {\n",
       "        vertical-align: middle;\n",
       "    }\n",
       "\n",
       "    .dataframe tbody tr th {\n",
       "        vertical-align: top;\n",
       "    }\n",
       "\n",
       "    .dataframe thead th {\n",
       "        text-align: right;\n",
       "    }\n",
       "</style>\n",
       "<table border=\"1\" class=\"dataframe\">\n",
       "  <thead>\n",
       "    <tr style=\"text-align: right;\">\n",
       "      <th></th>\n",
       "      <th>x_1</th>\n",
       "      <th>x_2</th>\n",
       "      <th>y</th>\n",
       "    </tr>\n",
       "  </thead>\n",
       "  <tbody>\n",
       "    <tr>\n",
       "      <th>0</th>\n",
       "      <td>0</td>\n",
       "      <td>0</td>\n",
       "      <td>0</td>\n",
       "    </tr>\n",
       "    <tr>\n",
       "      <th>1</th>\n",
       "      <td>0</td>\n",
       "      <td>1</td>\n",
       "      <td>1</td>\n",
       "    </tr>\n",
       "    <tr>\n",
       "      <th>2</th>\n",
       "      <td>1</td>\n",
       "      <td>2</td>\n",
       "      <td>1</td>\n",
       "    </tr>\n",
       "    <tr>\n",
       "      <th>3</th>\n",
       "      <td>0</td>\n",
       "      <td>0</td>\n",
       "      <td>1</td>\n",
       "    </tr>\n",
       "    <tr>\n",
       "      <th>4</th>\n",
       "      <td>2</td>\n",
       "      <td>2</td>\n",
       "      <td>0</td>\n",
       "    </tr>\n",
       "    <tr>\n",
       "      <th>5</th>\n",
       "      <td>1</td>\n",
       "      <td>1</td>\n",
       "      <td>0</td>\n",
       "    </tr>\n",
       "    <tr>\n",
       "      <th>6</th>\n",
       "      <td>0</td>\n",
       "      <td>2</td>\n",
       "      <td>1</td>\n",
       "    </tr>\n",
       "    <tr>\n",
       "      <th>7</th>\n",
       "      <td>2</td>\n",
       "      <td>0</td>\n",
       "      <td>0</td>\n",
       "    </tr>\n",
       "    <tr>\n",
       "      <th>8</th>\n",
       "      <td>2</td>\n",
       "      <td>1</td>\n",
       "      <td>0</td>\n",
       "    </tr>\n",
       "    <tr>\n",
       "      <th>9</th>\n",
       "      <td>1</td>\n",
       "      <td>0</td>\n",
       "      <td>0</td>\n",
       "    </tr>\n",
       "  </tbody>\n",
       "</table>\n",
       "</div>"
      ],
      "text/plain": [
       "   x_1  x_2  y\n",
       "0    0    0  0\n",
       "1    0    1  1\n",
       "2    1    2  1\n",
       "3    0    0  1\n",
       "4    2    2  0\n",
       "5    1    1  0\n",
       "6    0    2  1\n",
       "7    2    0  0\n",
       "8    2    1  0\n",
       "9    1    0  0"
      ]
     },
     "execution_count": 25,
     "metadata": {},
     "output_type": "execute_result"
    }
   ],
   "source": [
    "df = pd.DataFrame({'x_1':[0,0,1,0,2,1,0,2,2,1],\n",
    "                   'x_2':[0,1,2,0,2,1,2,0,1,0],\n",
    "                   'y':[0,1,1,1,0,0,1,0,0,0]})\n",
    "df"
   ]
  },
  {
   "cell_type": "markdown",
   "id": "f885f215",
   "metadata": {},
   "source": [
    "**Naive Bayes untuk Data Categorical**"
   ]
  },
  {
   "cell_type": "code",
   "execution_count": 26,
   "id": "ec210872",
   "metadata": {},
   "outputs": [],
   "source": [
    "def prob_prior(df, Y):\n",
    "    label_kelas = sorted(list(df[Y].unique()))\n",
    "    prior = []\n",
    "    for i in label_kelas:\n",
    "        prior.append(len(df[df[Y]==i])/len(df))\n",
    "    return prior"
   ]
  },
  {
   "cell_type": "code",
   "execution_count": 27,
   "id": "ab87a4ee",
   "metadata": {},
   "outputs": [],
   "source": [
    "def likelihood_categorical(df, nama_var, nilai_var, Y, label):\n",
    "    feat = list(df.columns)\n",
    "    df = df[df[Y]==label]\n",
    "    p_x_dgsyrt_y = len(df[df[nama_var]==nilai_var]) / len(df)\n",
    "    return p_x_dgsyrt_y"
   ]
  },
  {
   "cell_type": "code",
   "execution_count": 28,
   "id": "dee7e1c8",
   "metadata": {},
   "outputs": [],
   "source": [
    "def naive_bayes_categorical(df, X, Y):\n",
    "    # mengambil nama kolom\n",
    "    nama_kolom = list(df.columns)[:-1]\n",
    "    # menghitung prob prior\n",
    "    prior = prob_prior(df, Y)\n",
    "    Y_pred = []\n",
    "    # lopping pada setiap baris data\n",
    "    for x in X:\n",
    "        # menghitung likelihood\n",
    "        labels = sorted(list(df[Y].unique()))\n",
    "        likelihood = [1]*len(labels)\n",
    "        for j in range(len(labels)):\n",
    "            for i in range(len(nama_kolom)):\n",
    "                likelihood[j] *= likelihood_categorical(df, nama_kolom[i], x[i], Y, labels[j])\n",
    "        # menghitung posterior probability\n",
    "        post_prob = [1]*len(labels)\n",
    "        for j in range(len(labels)):\n",
    "            post_prob[j] = likelihood[j] * prior[j]\n",
    "    \n",
    "        Y_pred.append(np.argmax(post_prob))\n",
    "    return np.array(Y_pred)"
   ]
  },
  {
   "cell_type": "code",
   "execution_count": null,
   "id": "b654b671",
   "metadata": {},
   "outputs": [],
   "source": [
    "X = df.iloc[:,:-1].values\n",
    "Y = df.iloc[:,-1].values\n",
    "Y_pred = naive_bayes_categorical(train, X=X, Y=\"y\")"
   ]
  },
  {
   "cell_type": "code",
   "execution_count": 32,
   "id": "a1192efa",
   "metadata": {},
   "outputs": [
    {
     "data": {
      "text/plain": [
       "array([[0, 0],\n",
       "       [0, 1],\n",
       "       [1, 2],\n",
       "       [0, 0],\n",
       "       [2, 2],\n",
       "       [1, 1],\n",
       "       [0, 2],\n",
       "       [2, 0],\n",
       "       [2, 1],\n",
       "       [1, 0]], dtype=int64)"
      ]
     },
     "execution_count": 32,
     "metadata": {},
     "output_type": "execute_result"
    }
   ],
   "source": [
    "X"
   ]
  },
  {
   "cell_type": "code",
   "execution_count": null,
   "id": "3cb18a04",
   "metadata": {},
   "outputs": [],
   "source": [
    "Y_pred"
   ]
  },
  {
   "cell_type": "code",
   "execution_count": 34,
   "id": "6f8851a0",
   "metadata": {},
   "outputs": [
    {
     "data": {
      "text/plain": [
       "array([0, 1, 1, 1, 0, 0, 1, 0, 0, 0], dtype=int64)"
      ]
     },
     "execution_count": 34,
     "metadata": {},
     "output_type": "execute_result"
    }
   ],
   "source": [
    "Y"
   ]
  },
  {
   "cell_type": "markdown",
   "id": "af4bdf3f",
   "metadata": {},
   "source": [
    "# Implementasi Pada Data Real"
   ]
  },
  {
   "cell_type": "markdown",
   "id": "2ab04a11",
   "metadata": {},
   "source": [
    "**Loading Dataset**"
   ]
  },
  {
   "cell_type": "code",
   "execution_count": 39,
   "id": "66756ce0",
   "metadata": {},
   "outputs": [
    {
     "data": {
      "text/html": [
       "<div>\n",
       "<style scoped>\n",
       "    .dataframe tbody tr th:only-of-type {\n",
       "        vertical-align: middle;\n",
       "    }\n",
       "\n",
       "    .dataframe tbody tr th {\n",
       "        vertical-align: top;\n",
       "    }\n",
       "\n",
       "    .dataframe thead th {\n",
       "        text-align: right;\n",
       "    }\n",
       "</style>\n",
       "<table border=\"1\" class=\"dataframe\">\n",
       "  <thead>\n",
       "    <tr style=\"text-align: right;\">\n",
       "      <th></th>\n",
       "      <th>sex</th>\n",
       "      <th>age</th>\n",
       "      <th>Time</th>\n",
       "      <th>Number_of_Warts</th>\n",
       "      <th>Type</th>\n",
       "      <th>Area</th>\n",
       "      <th>Result_of_Treatment</th>\n",
       "    </tr>\n",
       "  </thead>\n",
       "  <tbody>\n",
       "    <tr>\n",
       "      <th>0</th>\n",
       "      <td>1</td>\n",
       "      <td>35</td>\n",
       "      <td>12.00</td>\n",
       "      <td>5</td>\n",
       "      <td>1</td>\n",
       "      <td>100</td>\n",
       "      <td>0</td>\n",
       "    </tr>\n",
       "    <tr>\n",
       "      <th>1</th>\n",
       "      <td>1</td>\n",
       "      <td>29</td>\n",
       "      <td>7.00</td>\n",
       "      <td>5</td>\n",
       "      <td>1</td>\n",
       "      <td>96</td>\n",
       "      <td>1</td>\n",
       "    </tr>\n",
       "    <tr>\n",
       "      <th>2</th>\n",
       "      <td>1</td>\n",
       "      <td>50</td>\n",
       "      <td>8.00</td>\n",
       "      <td>1</td>\n",
       "      <td>3</td>\n",
       "      <td>132</td>\n",
       "      <td>0</td>\n",
       "    </tr>\n",
       "    <tr>\n",
       "      <th>3</th>\n",
       "      <td>1</td>\n",
       "      <td>32</td>\n",
       "      <td>11.75</td>\n",
       "      <td>7</td>\n",
       "      <td>3</td>\n",
       "      <td>750</td>\n",
       "      <td>0</td>\n",
       "    </tr>\n",
       "    <tr>\n",
       "      <th>4</th>\n",
       "      <td>1</td>\n",
       "      <td>67</td>\n",
       "      <td>9.25</td>\n",
       "      <td>1</td>\n",
       "      <td>1</td>\n",
       "      <td>42</td>\n",
       "      <td>0</td>\n",
       "    </tr>\n",
       "    <tr>\n",
       "      <th>5</th>\n",
       "      <td>1</td>\n",
       "      <td>41</td>\n",
       "      <td>8.00</td>\n",
       "      <td>2</td>\n",
       "      <td>2</td>\n",
       "      <td>20</td>\n",
       "      <td>1</td>\n",
       "    </tr>\n",
       "    <tr>\n",
       "      <th>6</th>\n",
       "      <td>1</td>\n",
       "      <td>36</td>\n",
       "      <td>11.00</td>\n",
       "      <td>2</td>\n",
       "      <td>1</td>\n",
       "      <td>8</td>\n",
       "      <td>0</td>\n",
       "    </tr>\n",
       "    <tr>\n",
       "      <th>7</th>\n",
       "      <td>1</td>\n",
       "      <td>59</td>\n",
       "      <td>3.50</td>\n",
       "      <td>3</td>\n",
       "      <td>3</td>\n",
       "      <td>20</td>\n",
       "      <td>0</td>\n",
       "    </tr>\n",
       "    <tr>\n",
       "      <th>8</th>\n",
       "      <td>1</td>\n",
       "      <td>20</td>\n",
       "      <td>4.50</td>\n",
       "      <td>12</td>\n",
       "      <td>1</td>\n",
       "      <td>6</td>\n",
       "      <td>1</td>\n",
       "    </tr>\n",
       "    <tr>\n",
       "      <th>9</th>\n",
       "      <td>2</td>\n",
       "      <td>34</td>\n",
       "      <td>11.25</td>\n",
       "      <td>3</td>\n",
       "      <td>3</td>\n",
       "      <td>150</td>\n",
       "      <td>0</td>\n",
       "    </tr>\n",
       "  </tbody>\n",
       "</table>\n",
       "</div>"
      ],
      "text/plain": [
       "   sex  age   Time  Number_of_Warts  Type  Area  Result_of_Treatment\n",
       "0    1   35  12.00                5     1   100                    0\n",
       "1    1   29   7.00                5     1    96                    1\n",
       "2    1   50   8.00                1     3   132                    0\n",
       "3    1   32  11.75                7     3   750                    0\n",
       "4    1   67   9.25                1     1    42                    0\n",
       "5    1   41   8.00                2     2    20                    1\n",
       "6    1   36  11.00                2     1     8                    0\n",
       "7    1   59   3.50                3     3    20                    0\n",
       "8    1   20   4.50               12     1     6                    1\n",
       "9    2   34  11.25                3     3   150                    0"
      ]
     },
     "execution_count": 39,
     "metadata": {},
     "output_type": "execute_result"
    }
   ],
   "source": [
    "data = pd.read_csv(r\"C:\\Users\\User\\Downloads\\Cryotherapy.csv\")\n",
    "data.head(10)"
   ]
  },
  {
   "cell_type": "markdown",
   "id": "6f9a4b24",
   "metadata": {},
   "source": [
    "**Membagi Data jadi Training & Testing**"
   ]
  },
  {
   "cell_type": "code",
   "execution_count": 40,
   "id": "68ba1f9b",
   "metadata": {},
   "outputs": [],
   "source": [
    "from sklearn.model_selection import train_test_split\n",
    "train, test = train_test_split(data, test_size=.3, random_state=41)"
   ]
  },
  {
   "cell_type": "markdown",
   "id": "176807f1",
   "metadata": {},
   "source": [
    "**Training Model**"
   ]
  },
  {
   "cell_type": "code",
   "execution_count": 41,
   "id": "b12732d2",
   "metadata": {},
   "outputs": [],
   "source": [
    "X_test = test.iloc[:,:-1].values\n",
    "Y_test = test.iloc[:,-1].values\n",
    "Y_pred = naive_bayes_categorical(train, X=X_test, Y=\"Result_of_Treatment\")"
   ]
  },
  {
   "cell_type": "code",
   "execution_count": 42,
   "id": "e26a237d",
   "metadata": {},
   "outputs": [
    {
     "name": "stdout",
     "output_type": "stream",
     "text": [
      "0.7407407407407407\n"
     ]
    }
   ],
   "source": [
    "from sklearn.metrics import accuracy_score\n",
    "print(accuracy_score(Y_test, Y_pred))"
   ]
  },
  {
   "cell_type": "markdown",
   "id": "b348bb0f",
   "metadata": {},
   "source": [
    "# Metode Klasifikasi Naive Bayes Data Numerik"
   ]
  },
  {
   "cell_type": "markdown",
   "id": "acf5f23c",
   "metadata": {},
   "source": [
    "Misal kita memiliki dataset sebagai berikut:"
   ]
  },
  {
   "cell_type": "code",
   "execution_count": 43,
   "id": "f317187a",
   "metadata": {},
   "outputs": [
    {
     "data": {
      "text/html": [
       "<div>\n",
       "<style scoped>\n",
       "    .dataframe tbody tr th:only-of-type {\n",
       "        vertical-align: middle;\n",
       "    }\n",
       "\n",
       "    .dataframe tbody tr th {\n",
       "        vertical-align: top;\n",
       "    }\n",
       "\n",
       "    .dataframe thead th {\n",
       "        text-align: right;\n",
       "    }\n",
       "</style>\n",
       "<table border=\"1\" class=\"dataframe\">\n",
       "  <thead>\n",
       "    <tr style=\"text-align: right;\">\n",
       "      <th></th>\n",
       "      <th>sex</th>\n",
       "      <th>age</th>\n",
       "      <th>Time</th>\n",
       "      <th>Number_of_Warts</th>\n",
       "      <th>Type</th>\n",
       "      <th>Area</th>\n",
       "      <th>Result_of_Treatment</th>\n",
       "    </tr>\n",
       "  </thead>\n",
       "  <tbody>\n",
       "    <tr>\n",
       "      <th>0</th>\n",
       "      <td>1</td>\n",
       "      <td>35</td>\n",
       "      <td>12.00</td>\n",
       "      <td>5</td>\n",
       "      <td>1</td>\n",
       "      <td>100</td>\n",
       "      <td>0</td>\n",
       "    </tr>\n",
       "    <tr>\n",
       "      <th>1</th>\n",
       "      <td>1</td>\n",
       "      <td>29</td>\n",
       "      <td>7.00</td>\n",
       "      <td>5</td>\n",
       "      <td>1</td>\n",
       "      <td>96</td>\n",
       "      <td>1</td>\n",
       "    </tr>\n",
       "    <tr>\n",
       "      <th>2</th>\n",
       "      <td>1</td>\n",
       "      <td>50</td>\n",
       "      <td>8.00</td>\n",
       "      <td>1</td>\n",
       "      <td>3</td>\n",
       "      <td>132</td>\n",
       "      <td>0</td>\n",
       "    </tr>\n",
       "    <tr>\n",
       "      <th>3</th>\n",
       "      <td>1</td>\n",
       "      <td>32</td>\n",
       "      <td>11.75</td>\n",
       "      <td>7</td>\n",
       "      <td>3</td>\n",
       "      <td>750</td>\n",
       "      <td>0</td>\n",
       "    </tr>\n",
       "    <tr>\n",
       "      <th>4</th>\n",
       "      <td>1</td>\n",
       "      <td>67</td>\n",
       "      <td>9.25</td>\n",
       "      <td>1</td>\n",
       "      <td>1</td>\n",
       "      <td>42</td>\n",
       "      <td>0</td>\n",
       "    </tr>\n",
       "  </tbody>\n",
       "</table>\n",
       "</div>"
      ],
      "text/plain": [
       "   sex  age   Time  Number_of_Warts  Type  Area  Result_of_Treatment\n",
       "0    1   35  12.00                5     1   100                    0\n",
       "1    1   29   7.00                5     1    96                    1\n",
       "2    1   50   8.00                1     3   132                    0\n",
       "3    1   32  11.75                7     3   750                    0\n",
       "4    1   67   9.25                1     1    42                    0"
      ]
     },
     "execution_count": 43,
     "metadata": {},
     "output_type": "execute_result"
    }
   ],
   "source": [
    "data = pd.read_csv(r\"C:\\Users\\User\\Downloads\\Cryotherapy.csv\")\n",
    "data.head()"
   ]
  },
  {
   "cell_type": "markdown",
   "id": "ff6e91b4",
   "metadata": {},
   "source": [
    "Jika kita akan menghitung data numerik, maka ada dua cara, pertama kita ubah ke data categorical, atau dengan pendekatan model distribusi. Artinya kita melakukan fitting data ke sebuah distribusi standar(misal distribusi normal)."
   ]
  },
  {
   "attachments": {
    "Screenshot%202021-10-17%20154637.jpg": {
     "image/jpeg": "[encoded data removed]"
    }
   },
   "cell_type": "markdown",
   "id": "c13427fb",
   "metadata": {},
   "source": [
    "![Screenshot%202021-10-17%20154637.jpg](attachment:Screenshot%202021-10-17%20154637.jpg)"
   ]
  },
  {
   "cell_type": "markdown",
   "id": "70a52da3",
   "metadata": {},
   "source": [
    "# Implementasi Pada Python"
   ]
  },
  {
   "cell_type": "markdown",
   "id": "62d335f0",
   "metadata": {},
   "source": [
    "**Import Library**"
   ]
  },
  {
   "cell_type": "code",
   "execution_count": 44,
   "id": "37e47b2b",
   "metadata": {},
   "outputs": [],
   "source": [
    "import pandas as pd\n",
    "import numpy as np"
   ]
  },
  {
   "cell_type": "markdown",
   "id": "bb9f9006",
   "metadata": {},
   "source": [
    "**DataFrame Input**"
   ]
  },
  {
   "cell_type": "code",
   "execution_count": 45,
   "id": "4be2f8bb",
   "metadata": {},
   "outputs": [
    {
     "data": {
      "text/html": [
       "<div>\n",
       "<style scoped>\n",
       "    .dataframe tbody tr th:only-of-type {\n",
       "        vertical-align: middle;\n",
       "    }\n",
       "\n",
       "    .dataframe tbody tr th {\n",
       "        vertical-align: top;\n",
       "    }\n",
       "\n",
       "    .dataframe thead th {\n",
       "        text-align: right;\n",
       "    }\n",
       "</style>\n",
       "<table border=\"1\" class=\"dataframe\">\n",
       "  <thead>\n",
       "    <tr style=\"text-align: right;\">\n",
       "      <th></th>\n",
       "      <th>sex</th>\n",
       "      <th>age</th>\n",
       "      <th>Time</th>\n",
       "      <th>Number_of_Warts</th>\n",
       "      <th>Type</th>\n",
       "      <th>Area</th>\n",
       "      <th>Result_of_Treatment</th>\n",
       "    </tr>\n",
       "  </thead>\n",
       "  <tbody>\n",
       "    <tr>\n",
       "      <th>0</th>\n",
       "      <td>1</td>\n",
       "      <td>35</td>\n",
       "      <td>12.00</td>\n",
       "      <td>5</td>\n",
       "      <td>1</td>\n",
       "      <td>100</td>\n",
       "      <td>0</td>\n",
       "    </tr>\n",
       "    <tr>\n",
       "      <th>1</th>\n",
       "      <td>1</td>\n",
       "      <td>29</td>\n",
       "      <td>7.00</td>\n",
       "      <td>5</td>\n",
       "      <td>1</td>\n",
       "      <td>96</td>\n",
       "      <td>1</td>\n",
       "    </tr>\n",
       "    <tr>\n",
       "      <th>2</th>\n",
       "      <td>1</td>\n",
       "      <td>50</td>\n",
       "      <td>8.00</td>\n",
       "      <td>1</td>\n",
       "      <td>3</td>\n",
       "      <td>132</td>\n",
       "      <td>0</td>\n",
       "    </tr>\n",
       "    <tr>\n",
       "      <th>3</th>\n",
       "      <td>1</td>\n",
       "      <td>32</td>\n",
       "      <td>11.75</td>\n",
       "      <td>7</td>\n",
       "      <td>3</td>\n",
       "      <td>750</td>\n",
       "      <td>0</td>\n",
       "    </tr>\n",
       "    <tr>\n",
       "      <th>4</th>\n",
       "      <td>1</td>\n",
       "      <td>67</td>\n",
       "      <td>9.25</td>\n",
       "      <td>1</td>\n",
       "      <td>1</td>\n",
       "      <td>42</td>\n",
       "      <td>0</td>\n",
       "    </tr>\n",
       "  </tbody>\n",
       "</table>\n",
       "</div>"
      ],
      "text/plain": [
       "   sex  age   Time  Number_of_Warts  Type  Area  Result_of_Treatment\n",
       "0    1   35  12.00                5     1   100                    0\n",
       "1    1   29   7.00                5     1    96                    1\n",
       "2    1   50   8.00                1     3   132                    0\n",
       "3    1   32  11.75                7     3   750                    0\n",
       "4    1   67   9.25                1     1    42                    0"
      ]
     },
     "execution_count": 45,
     "metadata": {},
     "output_type": "execute_result"
    }
   ],
   "source": [
    "data = pd.read_csv(r\"C:\\Users\\User\\Downloads\\Cryotherapy.csv\")\n",
    "data.head()"
   ]
  },
  {
   "cell_type": "markdown",
   "id": "33eec4a9",
   "metadata": {},
   "source": [
    "**EDA for Distribution**"
   ]
  },
  {
   "cell_type": "code",
   "execution_count": 48,
   "id": "0a775223",
   "metadata": {},
   "outputs": [
    {
     "data": {
      "image/png": "[encoded data removed]",
      "text/plain": [
       "<Figure size 1296x432 with 3 Axes>"
      ]
     },
     "metadata": {},
     "output_type": "display_data"
    }
   ],
   "source": [
    "fig, axes = plt.subplots(1, 3, figsize=(18, 6), sharey=True)\n",
    "sns.histplot(data, ax=axes[0], x=\"Area\", kde=True, color='r')\n",
    "sns.histplot(data, ax=axes[1], x=\"age\", kde=True, color='b')\n",
    "sns.histplot(data, ax=axes[2], x=\"Number_of_Warts\", kde=True)\n",
    "plt.show()"
   ]
  },
  {
   "cell_type": "markdown",
   "id": "beb2409b",
   "metadata": {},
   "source": [
    "**Naive Bayes untuk Data Numerik**"
   ]
  },
  {
   "cell_type": "code",
   "execution_count": 49,
   "id": "c74dbb77",
   "metadata": {},
   "outputs": [],
   "source": [
    "def prob_prior(df, Y):\n",
    "    label_kelas = sorted(list(df[Y].unique()))\n",
    "    prior = []\n",
    "    for i in label_kelas:\n",
    "        prior.append(len(df[df[Y]==i])/len(df))\n",
    "    return prior"
   ]
  },
  {
   "cell_type": "code",
   "execution_count": 51,
   "id": "de7372ba",
   "metadata": {},
   "outputs": [],
   "source": [
    "def likelihood_gaussian(df, nama_var, nilai_var, Y, label):\n",
    "    feat = list(df.columns)\n",
    "    df = df[df[Y]==label]\n",
    "    mean, std = df[nama_var].mean(), df[nama_var].std()\n",
    "    p_x_dgsyrt_y = (1 / (np.sqrt(2 * np.pi) * std)) * np.exp(-((nilai_var-mean)**2 / (2 * std**2)))\n",
    "    return p_x_dgsyrt_y"
   ]
  },
  {
   "cell_type": "code",
   "execution_count": 52,
   "id": "666d1b0a",
   "metadata": {},
   "outputs": [],
   "source": [
    "def naive_bayes_gaussian(df, X, Y):\n",
    "    # mengambil nama kolom\n",
    "    nama_kolom = list(df.columns)[:-1]\n",
    "\n",
    "    # menghitung prob prior\n",
    "    prior = prob_prior(df, Y)\n",
    "\n",
    "    Y_pred = []\n",
    "    # lopping pada setiap baris data\n",
    "    for x in X:\n",
    "        # menghitung likelihood\n",
    "        labels = sorted(list(df[Y].unique()))\n",
    "        likelihood = [1]*len(labels)\n",
    "        for j in range(len(labels)):\n",
    "            for i in range(len(nama_kolom)):\n",
    "                likelihood[j] *= likelihood_gaussian(df, nama_kolom[i], x[i], Y, labels[j])\n",
    "                \n",
    "        # menghitung posterior probability\n",
    "        post_prob = [1]*len(labels)\n",
    "        for j in range(len(labels)):\n",
    "            post_prob[j] = likelihood[j] * prior[j]\n",
    "\n",
    "        Y_pred.append(np.argmax(post_prob))\n",
    "    \n",
    "    return np.array(Y_pred)"
   ]
  },
  {
   "cell_type": "code",
   "execution_count": 53,
   "id": "d232d642",
   "metadata": {},
   "outputs": [],
   "source": [
    "train, test = train_test_split(data, test_size=.2, random_state=41)\n",
    "\n",
    "X_test = test.iloc[:,:-1].values\n",
    "Y_test = test.iloc[:,-1].values\n",
    "Y_pred = naive_bayes_gaussian(train, X=X_test, Y=\"Result_of_Treatment\")"
   ]
  },
  {
   "cell_type": "code",
   "execution_count": 54,
   "id": "e81f0833",
   "metadata": {},
   "outputs": [
    {
     "name": "stdout",
     "output_type": "stream",
     "text": [
      "0.9444444444444444\n"
     ]
    }
   ],
   "source": [
    "print(accuracy_score(Y_test, Y_pred))"
   ]
  },
  {
   "cell_type": "markdown",
   "id": "ad83eb52",
   "metadata": {},
   "source": [
    "# Referensi"
   ]
  },
  {
   "cell_type": "markdown",
   "id": "8f6a3931",
   "metadata": {},
   "source": [
    "https://github.com/Suji04/ML_from_Scratch/blob/master/naive%20bayes.ipynb\n",
    "\n",
    "(https://github.com/Suji04/ML_from_Scratch/blob/master/naive%20bayes.ipynb)\n",
    "\n",
    "https://www.youtube.com/watch?v=lFJbZ6LVxN8 (https://www.youtube.com/watch?v=lFJbZ6LVxN8)"
   ]
  }
 ],
 "metadata": {
  "kernelspec": {
   "display_name": "Python 3 (ipykernel)",
   "language": "python",
   "name": "python3"
  },
  "language_info": {
   "codemirror_mode": {
    "name": "ipython",
    "version": 3
   },
   "file_extension": ".py",
   "mimetype": "text/x-python",
   "name": "python",
   "nbconvert_exporter": "python",
   "pygments_lexer": "ipython3",
   "version": "3.9.7"
  }
 },
 "nbformat": 4,
 "nbformat_minor": 5
}
